{
 "cells": [
  {
   "cell_type": "code",
   "execution_count": 1,
   "metadata": {},
   "outputs": [
    {
     "name": "stderr",
     "output_type": "stream",
     "text": [
      "unable to import 'smart_open.gcs', disabling that module\n"
     ]
    }
   ],
   "source": [
    "import pandas as pd, numpy as np, os, re, operator, string, csv\n",
    "from operator import itemgetter\n",
    "from collections import Counter, defaultdict\n",
    "\n",
    "import nltk\n",
    "from nltk.stem import WordNetLemmatizer\n",
    "from nltk.corpus import stopwords\n",
    "from nltk.tokenize import word_tokenize\n",
    "#.download('words')\n",
    "words = set(nltk.corpus.words.words())\n",
    "\n",
    "\n",
    "from gensim import corpora, models, similarities, utils\n",
    "from gensim.models.tfidfmodel import TfidfModel"
   ]
  },
  {
   "cell_type": "code",
   "execution_count": 2,
   "metadata": {},
   "outputs": [],
   "source": [
    "os.chdir('C:/Users/elcot/Downloads/New folder')"
   ]
  },
  {
   "cell_type": "code",
   "execution_count": 3,
   "metadata": {},
   "outputs": [],
   "source": [
    "path = \"C:/Users/elcot/Downloads/New folder\""
   ]
  },
  {
   "cell_type": "code",
   "execution_count": 4,
   "metadata": {},
   "outputs": [],
   "source": [
    "path1=\"C:/Users/elcot/Downloads/New folder\""
   ]
  },
  {
   "cell_type": "code",
   "execution_count": 5,
   "metadata": {},
   "outputs": [],
   "source": [
    "import os, glob\n",
    "import pandas as pd"
   ]
  },
  {
   "cell_type": "code",
   "execution_count": 6,
   "metadata": {},
   "outputs": [],
   "source": [
    "all_files = glob.glob(os.path.join(path, \"df3*.csv\"))"
   ]
  },
  {
   "cell_type": "code",
   "execution_count": 7,
   "metadata": {},
   "outputs": [],
   "source": [
    "all_csv = (pd.read_csv(f, sep=',') for f in all_files)"
   ]
  },
  {
   "cell_type": "code",
   "execution_count": 8,
   "metadata": {},
   "outputs": [
    {
     "name": "stderr",
     "output_type": "stream",
     "text": [
      "C:\\Users\\elcot\\Anaconda3\\lib\\site-packages\\ipykernel_launcher.py:1: FutureWarning: Sorting because non-concatenation axis is not aligned. A future version\n",
      "of pandas will change to not sort by default.\n",
      "\n",
      "To accept the future behavior, pass 'sort=False'.\n",
      "\n",
      "To retain the current behavior and silence the warning, pass 'sort=True'.\n",
      "\n",
      "  \"\"\"Entry point for launching an IPython kernel.\n"
     ]
    }
   ],
   "source": [
    "df_merged   = pd.concat(all_csv, ignore_index=True)"
   ]
  },
  {
   "cell_type": "code",
   "execution_count": 9,
   "metadata": {},
   "outputs": [],
   "source": [
    "df_merged.to_csv( \"df3.csv\")"
   ]
  },
  {
   "cell_type": "code",
   "execution_count": 10,
   "metadata": {},
   "outputs": [],
   "source": [
    "df=pd.read_csv('df3.csv')"
   ]
  },
  {
   "cell_type": "code",
   "execution_count": 11,
   "metadata": {},
   "outputs": [
    {
     "data": {
      "text/html": [
       "<div>\n",
       "<style scoped>\n",
       "    .dataframe tbody tr th:only-of-type {\n",
       "        vertical-align: middle;\n",
       "    }\n",
       "\n",
       "    .dataframe tbody tr th {\n",
       "        vertical-align: top;\n",
       "    }\n",
       "\n",
       "    .dataframe thead th {\n",
       "        text-align: right;\n",
       "    }\n",
       "</style>\n",
       "<table border=\"1\" class=\"dataframe\">\n",
       "  <thead>\n",
       "    <tr style=\"text-align: right;\">\n",
       "      <th></th>\n",
       "      <th>Unnamed: 0</th>\n",
       "      <th>Q_and_A</th>\n",
       "      <th>Unnamed: 0.1</th>\n",
       "      <th>answer</th>\n",
       "      <th>keywords</th>\n",
       "      <th>question</th>\n",
       "    </tr>\n",
       "  </thead>\n",
       "  <tbody>\n",
       "    <tr>\n",
       "      <th>0</th>\n",
       "      <td>0</td>\n",
       "      <td>Question:Is this cover the one that fits the o...</td>\n",
       "      <td>0.0</td>\n",
       "      <td>Yes this fits both the nook color and the same...</td>\n",
       "      <td>cover fit nook color shaped tablet</td>\n",
       "      <td>Is this cover the one that fits the old nook c...</td>\n",
       "    </tr>\n",
       "    <tr>\n",
       "      <th>1</th>\n",
       "      <td>1</td>\n",
       "      <td>Question:Does it fit Nook GlowLight?\\nAnswer  ...</td>\n",
       "      <td>1.0</td>\n",
       "      <td>No. The nook color or color tablet</td>\n",
       "      <td>fit nook glowlight color tablet</td>\n",
       "      <td>Does it fit Nook GlowLight?</td>\n",
       "    </tr>\n",
       "    <tr>\n",
       "      <th>2</th>\n",
       "      <td>2</td>\n",
       "      <td>Question:Would it fit Nook 1st Edition? 4.9in ...</td>\n",
       "      <td>2.0</td>\n",
       "      <td>I don't think so. The nook color is 5 x 8 so n...</td>\n",
       "      <td>fit nook edition color smaller stay locked close</td>\n",
       "      <td>Would it fit Nook 1st Edition? 4.9in x 7.7in ?</td>\n",
       "    </tr>\n",
       "    <tr>\n",
       "      <th>3</th>\n",
       "      <td>3</td>\n",
       "      <td>Question:Will this fit a Nook Color that's 5 x...</td>\n",
       "      <td>3.0</td>\n",
       "      <td>yes</td>\n",
       "      <td>fit nook color</td>\n",
       "      <td>Will this fit a Nook Color that's 5 x 8?</td>\n",
       "    </tr>\n",
       "    <tr>\n",
       "      <th>4</th>\n",
       "      <td>4</td>\n",
       "      <td>Question:will this fit the Samsung Galaxy Tab ...</td>\n",
       "      <td>4.0</td>\n",
       "      <td>No, the tab is smaller than the 'color'</td>\n",
       "      <td>fit samsung galaxy tab nook smaller color</td>\n",
       "      <td>will this fit the Samsung Galaxy Tab 4 Nook 10.1</td>\n",
       "    </tr>\n",
       "    <tr>\n",
       "      <th>5</th>\n",
       "      <td>5</td>\n",
       "      <td>Question:does it have a flip stand?\\nAnswer  :...</td>\n",
       "      <td>5.0</td>\n",
       "      <td>No, there is not a flip stand. It has a pocket...</td>\n",
       "      <td>flip stand pocket flap nice cover</td>\n",
       "      <td>does it have a flip stand?</td>\n",
       "    </tr>\n",
       "    <tr>\n",
       "      <th>6</th>\n",
       "      <td>6</td>\n",
       "      <td>Question:does this have a flip stand\\nAnswer  ...</td>\n",
       "      <td>6.0</td>\n",
       "      <td>Hi, no it doesn't</td>\n",
       "      <td>flip stand</td>\n",
       "      <td>does this have a flip stand</td>\n",
       "    </tr>\n",
       "    <tr>\n",
       "      <th>7</th>\n",
       "      <td>7</td>\n",
       "      <td>Question:also fits the HD+?\\nAnswer  :It shoul...</td>\n",
       "      <td>7.0</td>\n",
       "      <td>It should. They are the same size and the char...</td>\n",
       "      <td>fit hd size charging port place</td>\n",
       "      <td>also fits the HD+?</td>\n",
       "    </tr>\n",
       "    <tr>\n",
       "      <th>8</th>\n",
       "      <td>8</td>\n",
       "      <td>Question:Does it have 2 positions for the read...</td>\n",
       "      <td>8.0</td>\n",
       "      <td>Yes</td>\n",
       "      <td>position reader horizontal vertical kwod</td>\n",
       "      <td>Does it have 2 positions for the reader? Horiz...</td>\n",
       "    </tr>\n",
       "    <tr>\n",
       "      <th>9</th>\n",
       "      <td>9</td>\n",
       "      <td>Question:Is there a closure mechanism? Bands, ...</td>\n",
       "      <td>9.0</td>\n",
       "      <td>No- it is more like a normal book would be. It...</td>\n",
       "      <td>closure mechanism band magnetic normal book fl...</td>\n",
       "      <td>Is there a closure mechanism? Bands, magnetic,...</td>\n",
       "    </tr>\n",
       "  </tbody>\n",
       "</table>\n",
       "</div>"
      ],
      "text/plain": [
       "   Unnamed: 0                                            Q_and_A  \\\n",
       "0           0  Question:Is this cover the one that fits the o...   \n",
       "1           1  Question:Does it fit Nook GlowLight?\\nAnswer  ...   \n",
       "2           2  Question:Would it fit Nook 1st Edition? 4.9in ...   \n",
       "3           3  Question:Will this fit a Nook Color that's 5 x...   \n",
       "4           4  Question:will this fit the Samsung Galaxy Tab ...   \n",
       "5           5  Question:does it have a flip stand?\\nAnswer  :...   \n",
       "6           6  Question:does this have a flip stand\\nAnswer  ...   \n",
       "7           7  Question:also fits the HD+?\\nAnswer  :It shoul...   \n",
       "8           8  Question:Does it have 2 positions for the read...   \n",
       "9           9  Question:Is there a closure mechanism? Bands, ...   \n",
       "\n",
       "   Unnamed: 0.1                                             answer  \\\n",
       "0           0.0  Yes this fits both the nook color and the same...   \n",
       "1           1.0                 No. The nook color or color tablet   \n",
       "2           2.0  I don't think so. The nook color is 5 x 8 so n...   \n",
       "3           3.0                                                yes   \n",
       "4           4.0            No, the tab is smaller than the 'color'   \n",
       "5           5.0  No, there is not a flip stand. It has a pocket...   \n",
       "6           6.0                                  Hi, no it doesn't   \n",
       "7           7.0  It should. They are the same size and the char...   \n",
       "8           8.0                                                Yes   \n",
       "9           9.0  No- it is more like a normal book would be. It...   \n",
       "\n",
       "                                            keywords  \\\n",
       "0                 cover fit nook color shaped tablet   \n",
       "1                    fit nook glowlight color tablet   \n",
       "2   fit nook edition color smaller stay locked close   \n",
       "3                                     fit nook color   \n",
       "4          fit samsung galaxy tab nook smaller color   \n",
       "5                  flip stand pocket flap nice cover   \n",
       "6                                         flip stand   \n",
       "7                    fit hd size charging port place   \n",
       "8           position reader horizontal vertical kwod   \n",
       "9  closure mechanism band magnetic normal book fl...   \n",
       "\n",
       "                                            question  \n",
       "0  Is this cover the one that fits the old nook c...  \n",
       "1                        Does it fit Nook GlowLight?  \n",
       "2     Would it fit Nook 1st Edition? 4.9in x 7.7in ?  \n",
       "3           Will this fit a Nook Color that's 5 x 8?  \n",
       "4   will this fit the Samsung Galaxy Tab 4 Nook 10.1  \n",
       "5                         does it have a flip stand?  \n",
       "6                        does this have a flip stand  \n",
       "7                                 also fits the HD+?  \n",
       "8  Does it have 2 positions for the reader? Horiz...  \n",
       "9  Is there a closure mechanism? Bands, magnetic,...  "
      ]
     },
     "execution_count": 11,
     "metadata": {},
     "output_type": "execute_result"
    }
   ],
   "source": [
    "df.head(10)"
   ]
  },
  {
   "cell_type": "code",
   "execution_count": 67,
   "metadata": {},
   "outputs": [
    {
     "data": {
      "text/plain": [
       "(314091, 5)"
      ]
     },
     "execution_count": 67,
     "metadata": {},
     "output_type": "execute_result"
    }
   ],
   "source": [
    "df.shape"
   ]
  },
  {
   "cell_type": "code",
   "execution_count": 68,
   "metadata": {},
   "outputs": [
    {
     "data": {
      "text/plain": [
       "<bound method DataFrame.reset_index of         Unnamed: 0                                           question  \\\n",
       "0                0  Is this cover the one that fits the old nook c...   \n",
       "1                1                        Does it fit Nook GlowLight?   \n",
       "2                2     Would it fit Nook 1st Edition? 4.9in x 7.7in ?   \n",
       "3                3           Will this fit a Nook Color that's 5 x 8?   \n",
       "4                4   will this fit the Samsung Galaxy Tab 4 Nook 10.1   \n",
       "5                5                         does it have a flip stand?   \n",
       "6                6                        does this have a flip stand   \n",
       "7                7                                 also fits the HD+?   \n",
       "8                8  Does it have 2 positions for the reader? Horiz...   \n",
       "9                9  Is there a closure mechanism? Bands, magnetic,...   \n",
       "10              10                   how far out does the arm extend?   \n",
       "11              11  can you mount a sound bar using the external \"...   \n",
       "12              12  My TV has a VESA 200x200 bolt pattern and I ne...   \n",
       "13              13  my vizio has 200 ht x 600 width mounting holes...   \n",
       "14              14                             will it fit vizio tvs?   \n",
       "15              15         does it work well with 39 inch Magnavox tv   \n",
       "16              16          can I use it on a TV with VESA 100 x 100?   \n",
       "17              17  Will it mount a 32\" Vizio? The bolts in back a...   \n",
       "18              18                    Will this work with Viso VX37L?   \n",
       "19              19  Can it be used for VIZIO 39\" CLASS LED SMART T...   \n",
       "20              20  Hi, does it work with MacBook Air 13.3\" latest...   \n",
       "21              21  does this cable enable a macbook air 11 inch l...   \n",
       "22              22             Does it work with MacBook Air mid2012?   \n",
       "23              23  Hi! Does it work on Macbook Pro with Retina Di...   \n",
       "24              24                      Does this work with mac mini?   \n",
       "25              25         Is it working with pro retina early 2013 ?   \n",
       "26              26  Will this adapter enable my Mac AirBook to con...   \n",
       "27              27  hello, will this cable work a 2012 model macbo...   \n",
       "28              28  hello, what year macbook pro do you use this c...   \n",
       "29              29                Does this item come with a charger?   \n",
       "...            ...                                                ...   \n",
       "314061      314061  Can I use this device to listen to Apple TV wi...   \n",
       "314062      314062  I keep getting message when trying to connect ...   \n",
       "314063      314063  What if I want 2 in my house. Play in sync? Wi...   \n",
       "314064      314064                          Does it have a CD drive ?   \n",
       "314065      314065    does it have microsoft office or spy protection   \n",
       "314066      314066  What kind of USB or monitor jAcks does it have...   \n",
       "314067      314067  please i will like to know if thelaptop as a D...   \n",
       "314068      314068        Does this unit have a Ethernet connectioon?   \n",
       "314069      314069                             Does it have a camera?   \n",
       "314070      314070  Bought mine a week ago. The screen freezes up ...   \n",
       "314071      314071                        Does it have a built in cam   \n",
       "314072      314072  Would this be a good laptop for gaming? I have...   \n",
       "314073      314073  I bought this one last year. I'm still not int...   \n",
       "314074      314074  Is there a time period requirement on the mont...   \n",
       "314075      314075  Can you track a model plane with in a 50 foot ...   \n",
       "314076      314076  if you have this tracker in the weatherproof c...   \n",
       "314077      314077  is the battery self contained? How long doe sh...   \n",
       "314078      314078      Can i have coverage in paraguay south america   \n",
       "314079      314079                           how much is the service?   \n",
       "314080      314080  Can I track vehicules in Mexico, in other word...   \n",
       "314081      314081  Does this device have a way of connecting it t...   \n",
       "314082      314082  will this device work in grand canyon, where n...   \n",
       "314083      314083  for the 2G simcard...what type of plan is need...   \n",
       "314084      314084  What are the mounting dimensions? My limitatio...   \n",
       "314085      314085  How thick a desktop does this need? I'm lookin...   \n",
       "314086      314086  Is the space from bottom of desktop to tray ad...   \n",
       "314087      314087  can the mouse extension be mounted on the LEFT...   \n",
       "314088      314088                 does it come with all the hardware   \n",
       "314089      314089  how wide is it? I need a 19 inch length tray f...   \n",
       "314090      314090  Can this be adapted to be clamped underneath a...   \n",
       "\n",
       "                                                   answer  \\\n",
       "0       Yes this fits both the nook color and the same...   \n",
       "1                      No. The nook color or color tablet   \n",
       "2       I don't think so. The nook color is 5 x 8 so n...   \n",
       "3                                                     yes   \n",
       "4                 No, the tab is smaller than the 'color'   \n",
       "5       No, there is not a flip stand. It has a pocket...   \n",
       "6                                       Hi, no it doesn't   \n",
       "7       It should. They are the same size and the char...   \n",
       "8                                                     Yes   \n",
       "9       No- it is more like a normal book would be. It...   \n",
       "10                                   18 inches on our TV.   \n",
       "11                   Yes, I can but need sound bar mount.   \n",
       "12      200mm x200mm. Yes Fully extended from wall to ...   \n",
       "13      I'm sorry mine is mounted already so I could n...   \n",
       "14                i have a 42\" vizio and it fit just fine   \n",
       "15      Should work fine there are plenty of ways to a...   \n",
       "16      Yes, it does have that pattern as the smallest...   \n",
       "17      Is should fit. If necessary you can use the 4 ...   \n",
       "18      Yes, definitely. I bought me a Vizio 42 inch a...   \n",
       "19      We have our 42\" Vizio mounted on it with no pr...   \n",
       "20      I just got my MacBook Air in January, so I bel...   \n",
       "21      The end that connects to the laptop is a stand...   \n",
       "22                                                    yep   \n",
       "23      It did work. Unfortunately, it stopped working...   \n",
       "24                                                    Yes   \n",
       "25      We are only using it for normal video projecto...   \n",
       "26      yes. but in my case ..it did pretty good job f...   \n",
       "27                      my Mac pro 17\" i5 works perfectly   \n",
       "28                           Mine is a 2011. Works great!   \n",
       "29                                               Ours did   \n",
       "...                                                   ...   \n",
       "314061  I'm thinking no. This is an air play transmitt...   \n",
       "314062  I noticed that the most recent firmware update...   \n",
       "314063  Hi Aaron. Each Sabrent has its own SSID. There...   \n",
       "314064                         No. It has no CD/DVD Drive   \n",
       "314065  It has a full version of office and a free ant...   \n",
       "314066             It has 1 3.0 USB 2 2.0 USB 1 hdmi port   \n",
       "314067                          DVD/CD DRIVE NOT INCLUDED   \n",
       "314068                                                Yes   \n",
       "314069                                                yes   \n",
       "314070  You might want to check if your system have vi...   \n",
       "314071                                                Yes   \n",
       "314072         I do not know why not, and played with her   \n",
       "314073  It should run great with windows 7, and most l...   \n",
       "314074  No, the Datablaze service does not require any...   \n",
       "314075  Hummmm now there is good question. I would cal...   \n",
       "314076  You will not be able to see the lights blinkin...   \n",
       "314077  The battery is a battery pack similar what a b...   \n",
       "314078  You can use the device outside the US, but you...   \n",
       "314079  The activation fee is $44.95 and monthly servi...   \n",
       "314080                                                Yes   \n",
       "314081                  It's flat on all sides. No loops.   \n",
       "314082  It works on the 2G network. No Cell no workie....   \n",
       "314083  I don't know anything about a 2G simcard I do ...   \n",
       "314084  The way I have mine mounted takes about 14 inc...   \n",
       "314085  I don't believe it would work with a \"very thi...   \n",
       "314086                                                 No   \n",
       "314087    yes, you can put it on which ever side you want   \n",
       "314088  It's been a while since I bought this, but I'm...   \n",
       "314089  We just measured the tray and it is 21 inches ...   \n",
       "314090                                 I do not think so.   \n",
       "\n",
       "                                                 keywords  \\\n",
       "0                      cover fit nook color shaped tablet   \n",
       "1                         fit nook glowlight color tablet   \n",
       "2        fit nook edition color smaller stay locked close   \n",
       "3                                          fit nook color   \n",
       "4               fit samsung galaxy tab nook smaller color   \n",
       "5                       flip stand pocket flap nice cover   \n",
       "6                                              flip stand   \n",
       "7                         fit hd size charging port place   \n",
       "8                position reader horizontal vertical kwod   \n",
       "9       closure mechanism band magnetic normal book fl...   \n",
       "10                                     arm extend inch tv   \n",
       "11      mount sound bar external stick arm vertically ...   \n",
       "12      tv vesa bolt pattern extend inch extension wal...   \n",
       "13      vizio ht width mounting hole mount handle moun...   \n",
       "14                                      fit vizio tv fine   \n",
       "15      work inch magnavox tv fine plenty way adjust m...   \n",
       "16                      tv vesa pattern smallest template   \n",
       "17      mount vizio bolt bracket fit bought buy extens...   \n",
       "18      work viso vx bought vizio inch install extende...   \n",
       "19      vizio class led smart tv mounted problem specific   \n",
       "20      work macbook air latest model january computer...   \n",
       "21      cable enable macbook air inch late model conne...   \n",
       "22                                   work macbook air mid   \n",
       "23      work macbook pro retina display inch latest st...   \n",
       "24                                          work mac mini   \n",
       "25      working pro retina early normal video projecto...   \n",
       "26      adapter enable mac airbook connect lcd monitor...   \n",
       "27        cable work model macbook pro mac work perfectly   \n",
       "28                      year macbook pro cable work great   \n",
       "29                                           item charger   \n",
       "...                                                   ...   \n",
       "314061  device listen apple tv headphone thinking air ...   \n",
       "314062  message connect radu wireless router device ne...   \n",
       "314063  house play sync wifi ssid name rename kitchen ...   \n",
       "314064                                       cd drive dvd   \n",
       "314065  microsoft office spy protection version free a...   \n",
       "314066  kind usb monitor jack inexpensive backup compu...   \n",
       "314067          thelaptop dvdor cd rom drive dvd included   \n",
       "314068                          unit ethernet connectioon   \n",
       "314069                                             camera   \n",
       "314070  bought week ago screen freeze frequently pick ...   \n",
       "314071                                          built cam   \n",
       "314072  good laptop gaming steam origin game find hand...   \n",
       "314073                bought year window run great faster   \n",
       "314074  time period requirement monthly fee datablaze ...   \n",
       "314075  track model plane foot radius weigh hummmm goo...   \n",
       "314076  tracker weatherproof case light blinking fully...   \n",
       "314077  battery contained long doe shte recharge pack ...   \n",
       "314078  coverage paraguay south america device local s...   \n",
       "314079      service activation fee monthly month contract   \n",
       "314080  track vehicules mexico word service coverrage ...   \n",
       "314081         device connecting key chain flat side loop   \n",
       "314082  device work grand canyon cellular service exis...   \n",
       "314083  simcard type plan needed data transmission sam...   \n",
       "314084  mounting dimension limitation desk inch recess...   \n",
       "314085  thick desktop elfa component desk thin work th...   \n",
       "314086             space desktop tray adjustable position   \n",
       "314087                       mouse extension mounted left   \n",
       "314088                                    hardware bought   \n",
       "314089      wide inch length tray desk measured inch good   \n",
       "314090  adapted clamped underneath glass computer desk...   \n",
       "\n",
       "                                                  Q_and_A  \n",
       "0       Question:Is this cover the one that fits the o...  \n",
       "1       Question:Does it fit Nook GlowLight?\\nAnswer  ...  \n",
       "2       Question:Would it fit Nook 1st Edition? 4.9in ...  \n",
       "3       Question:Will this fit a Nook Color that's 5 x...  \n",
       "4       Question:will this fit the Samsung Galaxy Tab ...  \n",
       "5       Question:does it have a flip stand?\\nAnswer  :...  \n",
       "6       Question:does this have a flip stand\\nAnswer  ...  \n",
       "7       Question:also fits the HD+?\\nAnswer  :It shoul...  \n",
       "8       Question:Does it have 2 positions for the read...  \n",
       "9       Question:Is there a closure mechanism? Bands, ...  \n",
       "10      Question:how far out does the arm extend?\\nAns...  \n",
       "11      Question:can you mount a sound bar using the e...  \n",
       "12      Question:My TV has a VESA 200x200 bolt pattern...  \n",
       "13      Question:my vizio has 200 ht x 600 width mount...  \n",
       "14      Question:will it fit vizio tvs?\\nAnswer  :i ha...  \n",
       "15      Question:does it work well with 39 inch Magnav...  \n",
       "16      Question:can I use it on a TV with VESA 100 x ...  \n",
       "17      Question:Will it mount a 32\" Vizio? The bolts ...  \n",
       "18      Question:Will this work with Viso VX37L?\\nAnsw...  \n",
       "19      Question:Can it be used for VIZIO 39\" CLASS LE...  \n",
       "20      Question:Hi, does it work with MacBook Air 13....  \n",
       "21      Question:does this cable enable a macbook air ...  \n",
       "22      Question:Does it work with MacBook Air mid2012...  \n",
       "23      Question:Hi! Does it work on Macbook Pro with ...  \n",
       "24      Question:Does this work with mac mini?\\nAnswer...  \n",
       "25      Question:Is it working with pro retina early 2...  \n",
       "26      Question:Will this adapter enable my Mac AirBo...  \n",
       "27      Question:hello, will this cable work a 2012 mo...  \n",
       "28      Question:hello, what year macbook pro do you u...  \n",
       "29      Question:Does this item come with a charger?\\n...  \n",
       "...                                                   ...  \n",
       "314061  Question:Can I use this device to listen to Ap...  \n",
       "314062  Question:I keep getting message when trying to...  \n",
       "314063  Question:What if I want 2 in my house. Play in...  \n",
       "314064  Question:Does it have a CD drive ?\\nAnswer  :N...  \n",
       "314065  Question:does it have microsoft office or spy ...  \n",
       "314066  Question:What kind of USB or monitor jAcks doe...  \n",
       "314067  Question:please i will like to know if thelapt...  \n",
       "314068  Question:Does this unit have a Ethernet connec...  \n",
       "314069      Question:Does it have a camera?\\nAnswer  :yes  \n",
       "314070  Question:Bought mine a week ago. The screen fr...  \n",
       "314071  Question:Does it have a built in cam\\nAnswer  ...  \n",
       "314072  Question:Would this be a good laptop for gamin...  \n",
       "314073  Question:I bought this one last year. I'm stil...  \n",
       "314074  Question:Is there a time period requirement on...  \n",
       "314075  Question:Can you track a model plane with in a...  \n",
       "314076  Question:if you have this tracker in the weath...  \n",
       "314077  Question:is the battery self contained? How lo...  \n",
       "314078  Question:Can i have coverage in paraguay south...  \n",
       "314079  Question:how much is the service?\\nAnswer  :Th...  \n",
       "314080  Question:Can I track vehicules in Mexico, in o...  \n",
       "314081  Question:Does this device have a way of connec...  \n",
       "314082  Question:will this device work in grand canyon...  \n",
       "314083  Question:for the 2G simcard...what type of pla...  \n",
       "314084  Question:What are the mounting dimensions? My ...  \n",
       "314085  Question:How thick a desktop does this need? I...  \n",
       "314086  Question:Is the space from bottom of desktop t...  \n",
       "314087  Question:can the mouse extension be mounted on...  \n",
       "314088  Question:does it come with all the hardware\\nA...  \n",
       "314089  Question:how wide is it? I need a 19 inch leng...  \n",
       "314090  Question:Can this be adapted to be clamped und...  \n",
       "\n",
       "[314091 rows x 5 columns]>"
      ]
     },
     "execution_count": 68,
     "metadata": {},
     "output_type": "execute_result"
    }
   ],
   "source": [
    "df.reset_index"
   ]
  },
  {
   "cell_type": "code",
   "execution_count": 69,
   "metadata": {},
   "outputs": [
    {
     "data": {
      "text/plain": [
       "Unnamed: 0    0\n",
       "question      0\n",
       "answer        0\n",
       "keywords      0\n",
       "Q_and_A       0\n",
       "dtype: int64"
      ]
     },
     "execution_count": 69,
     "metadata": {},
     "output_type": "execute_result"
    }
   ],
   "source": [
    "df.isnull().sum()"
   ]
  },
  {
   "cell_type": "code",
   "execution_count": 70,
   "metadata": {},
   "outputs": [],
   "source": [
    "df = df[df['keywords'].notna()]"
   ]
  },
  {
   "cell_type": "code",
   "execution_count": 71,
   "metadata": {},
   "outputs": [],
   "source": [
    "docs = df['keywords'].tolist()"
   ]
  },
  {
   "cell_type": "code",
   "execution_count": 81,
   "metadata": {},
   "outputs": [],
   "source": [
    "processed_docs = [word_tokenize(doc.lower()) for doc in docs] #tokenize and lowercase to generate bag of words"
   ]
  },
  {
   "cell_type": "code",
   "execution_count": 82,
   "metadata": {},
   "outputs": [],
   "source": [
    "dictionary = corpora.Dictionary(processed_docs)"
   ]
  },
  {
   "cell_type": "code",
   "execution_count": 83,
   "metadata": {},
   "outputs": [],
   "source": [
    "dictionary.save(path+'dim_items_terms.dict')"
   ]
  },
  {
   "cell_type": "code",
   "execution_count": 84,
   "metadata": {},
   "outputs": [],
   "source": [
    "corpus = [dictionary.doc2bow(doc) for doc in processed_docs]"
   ]
  },
  {
   "cell_type": "code",
   "execution_count": 85,
   "metadata": {},
   "outputs": [],
   "source": [
    "corpora.MmCorpus.serialize(path+'dim_items_terms.mm', corpus)"
   ]
  },
  {
   "cell_type": "code",
   "execution_count": 86,
   "metadata": {},
   "outputs": [],
   "source": [
    "tfidf = TfidfModel(corpus)"
   ]
  },
  {
   "cell_type": "code",
   "execution_count": 87,
   "metadata": {},
   "outputs": [],
   "source": [
    "tfidfmodelsave=tfidf.save(path+'dim_items_terms.tfidf')"
   ]
  },
  {
   "cell_type": "code",
   "execution_count": 88,
   "metadata": {},
   "outputs": [],
   "source": [
    "tfidf_corpus=tfidf[corpus]"
   ]
  },
  {
   "cell_type": "code",
   "execution_count": 89,
   "metadata": {},
   "outputs": [
    {
     "name": "stdout",
     "output_type": "stream",
     "text": [
      "shaped 0.5856416780673531\n",
      "nook 0.5218843240682374\n",
      "color 0.37567132399723385\n",
      "cover 0.3372062336880242\n",
      "tablet 0.2995695872768057\n"
     ]
    }
   ],
   "source": [
    "sorted_tfidf_weights = sorted(tfidf[corpus[0]], key=lambda w: w[1], reverse=True)\n",
    "for term_id, weight in sorted_tfidf_weights[:5]:\n",
    "    print(dictionary.get(term_id), weight)"
   ]
  },
  {
   "cell_type": "code",
   "execution_count": 90,
   "metadata": {},
   "outputs": [],
   "source": [
    "sims = similarities.Similarity('path1',tfidf[corpus], num_features=len(dictionary))"
   ]
  },
  {
   "cell_type": "code",
   "execution_count": 91,
   "metadata": {},
   "outputs": [],
   "source": [
    "def keywords_recommendation(keyword_rec,Top_N_Q_and_A):\n",
    "    if os.path.exists(\"recommandation.csv\"):\n",
    "        os.remove(\"recommandation.csv\")\n",
    "    keyword_rec=keyword_rec\n",
    "    keywords_rec = re.sub(r\"http\\S+\", \"\", keyword_rec) \n",
    "    keywords_rec = keywords_rec.replace('.',' ') \n",
    "    keywords_rec=re.sub(\"<!--?.*?-->\",\"\",keywords_rec)\n",
    "    keywords_rec=re.sub(\"(\\\\d|\\\\W)+\",\" \",keywords_rec)\n",
    "    keywords_rec = re.sub(r'\\s+',' ',re.sub(r'[^\\w \\s]','',keywords_rec) ).lower()\n",
    "    keywords_rec = word_tokenize(keywords_rec) # tokenize for generating bag of words\n",
    "    keywords_rec= [w for w in keywords_rec if w not in set(stopwords.words('english'))]\n",
    "    \n",
    "    # After cleaning the given question keyword using text nlp, if keyword returns empty then given keywords will be assigned/used directly for analysis \n",
    "    if len(keywords_rec)==0:\n",
    "        keywords_rec=word_tokenize(keyword_rec)\n",
    "        \n",
    "    # creating model for the keyword \n",
    "    query_doc_bow = dictionary.doc2bow(keywords_rec) # get a bag of words from the query_doc\n",
    "    query_doc_tfidf = tfidf[query_doc_bow] #convert the regular bag of words model to a tf-idf model of the keywords and it's tf-idf value for the question and answer\n",
    "    \n",
    "    # Finding similarities between data and the keywords and converting the array into series for sorting    \n",
    "    \n",
    "    similarity_array = sims[query_doc_tfidf] # get the array of similarity values between our new keywords and every other keywords. \n",
    "    similarity_series = pd.Series(similarity_array.tolist(), index=df.Q_and_A.values) #Convert to a Series\n",
    "    Top_Q_and_A = similarity_series.sort_values(ascending=False)[:Top_N_Q_and_A] #get the top matching results, \n",
    "    \n",
    "    #Storing the sorted values for further processing.----Print\n",
    "    Top_Q_and_A.to_csv('recommandation.csv', mode='a',  header=False)\n",
    "    \n",
    "    # labeling and values and printing the sorted values as per requirements    \n",
    "    col_Names=[\"Q_and_A\", \"Score\"]\n",
    "    df1 = pd.read_csv(\"recommandation.csv\",names=col_Names)\n",
    "    df1=df1.sort_values(by=['Score'], ascending=False)\n",
    "    \n",
    "    print('==============================')  \n",
    "    print('keyword: ', keyword_rec )\n",
    "    print('--------&-------------')  \n",
    "    print('Most Related Top ', Top_N_Q_and_A , ' Questions and Answers are as:')\n",
    "    print('==============================')  \n",
    "    for j in range(Top_N_Q_and_A):\n",
    "        similarity_score=df1['Score'].loc[j]\n",
    "        #print('similarity score is ', similarity_score)\n",
    "        split_lines=''\n",
    "        split_lines=df1['Q_and_A'].loc[j] \n",
    "        print(split_lines.split('\\n', 1)[0])\n",
    "        print(split_lines.split('\\n', 1)[1])\n",
    "        #similarity_score=df1['Score'].loc[j]\n",
    "        print('similarity score is :', similarity_score)\n",
    "        print('**********************')    "
   ]
  },
  {
   "cell_type": "code",
   "execution_count": 92,
   "metadata": {},
   "outputs": [
    {
     "name": "stdout",
     "output_type": "stream",
     "text": [
      "==============================\n",
      "keyword:  Ram\n",
      "--------&-------------\n",
      "Most Related Top  5  Questions and Answers are as:\n",
      "==============================\n",
      "Question:How much ram?\n",
      "Answer  :4\n",
      "similarity score is : 1.0\n",
      "**********************\n",
      "Question:Is this the RAM-B-101U\n",
      "Answer  :Yes it is.\n",
      "similarity score is : 1.0\n",
      "**********************\n",
      "Question:How much RAM does it have?\n",
      "Answer  :512M\n",
      "similarity score is : 1.0\n",
      "**********************\n",
      "Question:how much ram does it have??\n",
      "Answer  :512M\n",
      "similarity score is : 1.0\n",
      "**********************\n",
      "Question:Will this work for a 2014 ram 1500?\n",
      "Answer  :It should.\n",
      "similarity score is : 0.9595279693603516\n",
      "**********************\n"
     ]
    }
   ],
   "source": [
    "key_rec=keywords_recommendation('Ram',5)"
   ]
  },
  {
   "cell_type": "code",
   "execution_count": null,
   "metadata": {},
   "outputs": [],
   "source": []
  }
 ],
 "metadata": {
  "kernelspec": {
   "display_name": "Python 3",
   "language": "python",
   "name": "python3"
  },
  "language_info": {
   "codemirror_mode": {
    "name": "ipython",
    "version": 3
   },
   "file_extension": ".py",
   "mimetype": "text/x-python",
   "name": "python",
   "nbconvert_exporter": "python",
   "pygments_lexer": "ipython3",
   "version": "3.7.3"
  }
 },
 "nbformat": 4,
 "nbformat_minor": 2
}
